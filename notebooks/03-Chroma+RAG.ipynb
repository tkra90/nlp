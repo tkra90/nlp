{
 "cells": [
  {
   "cell_type": "markdown",
   "id": "510d589f-3f07-4d8c-8d1d-e44677b8a21c",
   "metadata": {},
   "source": [
    "# Chroma + RAG\n",
    "- Load PDF, Split into chuncks, Embed, then store in a retrieval system (Chroma)\n",
    "- Embed Query\n",
    "- Retrieval system finds most relevant documents (Nearest Neighbour of Query and pdf txt embeddings)\n",
    "- Return Query and relevant results to LLM\n",
    "- LLM synthesizes that data"
   ]
  },
  {
   "cell_type": "markdown",
   "id": "e35f122b-6d3a-4068-ab0d-5fc1a05fe3e9",
   "metadata": {},
   "source": [
    "***\n",
    "## Install packages"
   ]
  },
  {
   "cell_type": "code",
   "execution_count": null,
   "id": "c581d601-2273-4385-af21-5f6fb44022bf",
   "metadata": {},
   "outputs": [],
   "source": [
    "%pip install -qqq langchain==0.1.0\n",
    "%pip install -qqq sentence-transformers==2.2.2\n",
    "%pip install -qqq openai==1.7.1 umap-learn==0.5.5 #umap==0.1.1\n",
    "\n",
    "# to avoid RuntimeError: Your system has an unsupported version of sqlite3. Chroma requires sqlite3 >= 3.35.0., install version 0.3.29\n",
    "%pip install -qqq chromadb==0.3.29 #0.4.22\n",
    "\n",
    "%pip install -qqq pypdf==3.17.4\n",
    "%pip install -qqq git+https://github.com/tkra90/magic.git"
   ]
  },
  {
   "cell_type": "code",
   "execution_count": 2,
   "id": "601ff5db-ea87-4d66-a812-e49c2af9edee",
   "metadata": {},
   "outputs": [],
   "source": [
    "from tinymagic.nlp import helpers as nlp_helper"
   ]
  },
  {
   "cell_type": "code",
   "execution_count": 3,
   "id": "ce0bf938-6638-4b91-a731-017497db0496",
   "metadata": {},
   "outputs": [],
   "source": [
    "from tqdm.notebook import tqdm\n",
    "from pypdf import PdfReader\n",
    "from langchain.text_splitter import (\n",
    "    RecursiveCharacterTextSplitter, \n",
    "    SentenceTransformersTokenTextSplitter\n",
    ")"
   ]
  },
  {
   "cell_type": "markdown",
   "id": "d50b401e-5fa8-4f1c-8b84-22c638e3d9dd",
   "metadata": {},
   "source": [
    "***\n",
    "## Read pdf document"
   ]
  },
  {
   "cell_type": "code",
   "execution_count": null,
   "id": "45cb8d81-6db5-4204-bbd6-68ea1a5b9f94",
   "metadata": {},
   "outputs": [],
   "source": [
    "pdf_file = './LLMs/SI-HoMan-PL-en-53.pdf'\n",
    "\n",
    "# extract text and strip whitespace, remove ..s\n",
    "pdf_readr = PdfReader(pdf_file)\n",
    "pdfs = [page.extract_text().strip().replace('..','') for page in pdf_readr.pages]\n",
    "\n",
    "# filter empty pages\n",
    "filtered_pdf = [pg for pg in pdfs if pg]\n",
    "\n",
    "len(pdfs), len(filtered_pdf)"
   ]
  },
  {
   "cell_type": "code",
   "execution_count": 5,
   "id": "5324b4af-c4bc-4a1e-ac4a-54e6e4e126bf",
   "metadata": {},
   "outputs": [
    {
     "name": "stdout",
     "output_type": "stream",
     "text": [
      "Planning Guidelines\n",
      "SMA SMART HOME\n",
      "The System Solution for Greater Independence\n",
      "SI-HoMan-PL-en-53 | Version 5.3 ENGLISH\n"
     ]
    }
   ],
   "source": [
    "print(filtered_pdf[0])"
   ]
  },
  {
   "cell_type": "code",
   "execution_count": 6,
   "id": "66224db1-2ec7-4ffa-8395-09be449d15a4",
   "metadata": {},
   "outputs": [
    {
     "name": "stdout",
     "output_type": "stream",
     "text": [
      "Planning Guidelines\n",
      "SMA SMART HOME\n",
      "The System\n",
      "\n",
      "Solution for Greater\n",
      "Independence\n",
      "SI-HoMan-PL-en-53 | Version 5.3\n",
      "ENGLISH\n"
     ]
    }
   ],
   "source": [
    "print(nlp_helper.wrap_text(filtered_pdf[0], 50, '\\n\\n'))"
   ]
  },
  {
   "cell_type": "markdown",
   "id": "0e42e1e0-d730-4a53-a437-a7a3c0de3b72",
   "metadata": {},
   "source": [
    "***\n",
    "## Split text by Characters "
   ]
  },
  {
   "cell_type": "code",
   "execution_count": 7,
   "id": "ed19572a-ce0d-4602-9f44-9270ad7fc6d1",
   "metadata": {},
   "outputs": [
    {
     "name": "stdout",
     "output_type": "stream",
     "text": [
      "Nr. of chunks: 149\n"
     ]
    }
   ],
   "source": [
    "# split by \\\\n, if still >1000, split by \\n etc\n",
    "char_splitter = RecursiveCharacterTextSplitter(\n",
    "    separators=[\"\\n\\n\", \"\\n\", \". \",  \" \", \"\"],\n",
    "    chunk_size=1000,\n",
    "    chunk_overlap=0\n",
    ")\n",
    "\n",
    "merged_pages = '\\n\\n'.join(filtered_pdf)\n",
    "split_text = char_splitter.split_text(merged_pages)\n",
    "\n",
    "print(f'Nr. of chunks: {len(split_text)}')"
   ]
  },
  {
   "cell_type": "code",
   "execution_count": 8,
   "id": "4df335fc-6101-45db-866b-652cb8ffd8d8",
   "metadata": {},
   "outputs": [
    {
     "name": "stdout",
     "output_type": "stream",
     "text": [
      "Planning Guidelines\n",
      "SMA SMART HOME\n",
      "The System\n",
      "Solution for Greater\n",
      "Independence\n",
      "SI-HoMan-PL-en-53 | Version 5.3\n",
      "ENGLISH\n"
     ]
    }
   ],
   "source": [
    "print(nlp_helper.wrap_text(split_text[0])[:250])"
   ]
  },
  {
   "cell_type": "markdown",
   "id": "5c98107c-7808-4426-a6ae-1b4ae155815c",
   "metadata": {},
   "source": [
    "***\n",
    "## Split Tokens\n",
    "- prepare text for the embedding model"
   ]
  },
  {
   "cell_type": "code",
   "execution_count": 9,
   "id": "694c2570-6b64-48ee-afeb-2027b842ae03",
   "metadata": {},
   "outputs": [],
   "source": [
    "token_splitter = SentenceTransformersTokenTextSplitter(\n",
    "    chunk_overlap=0, \n",
    "    tokens_per_chunk=256\n",
    ")\n",
    "# bc embedding model context window  is 256"
   ]
  },
  {
   "cell_type": "code",
   "execution_count": 10,
   "id": "3ea353b4-c57a-45ed-a0ec-4fd6b11966a8",
   "metadata": {},
   "outputs": [
    {
     "data": {
      "text/plain": [
       "153"
      ]
     },
     "execution_count": 12,
     "metadata": {},
     "output_type": "execute_result"
    }
   ],
   "source": [
    "split_txt_by_token = []\n",
    "for text in split_text:\n",
    "    split_txt_by_token += token_splitter.split_text(text)\n",
    "    \n",
    "len(split_txt_by_token)"
   ]
  },
  {
   "cell_type": "code",
   "execution_count": 11,
   "id": "87038034-d067-4d44-b3a4-aa67eb6ab56a",
   "metadata": {},
   "outputs": [
    {
     "name": "stdout",
     "output_type": "stream",
     "text": [
      "planning guidelines sma smart home the system\n",
      "solution for greater independence si - homan - pl\n",
      "- en - 53 | version 5. 3 english\n"
     ]
    }
   ],
   "source": [
    "print(nlp_helper.wrap_text(split_txt_by_token[0]))"
   ]
  },
  {
   "cell_type": "code",
   "execution_count": 12,
   "id": "fae6999c-0ff8-4d0b-b0c4-109f7c82fca5",
   "metadata": {},
   "outputs": [
    {
     "data": {
      "text/plain": [
       "'planning guidelines sma smart home the system solution for greater independence si - homan - pl - en - 53 | version 5. 3 english'"
      ]
     },
     "execution_count": 12,
     "metadata": {},
     "output_type": "execute_result"
    }
   ],
   "source": [
    "split_txt_by_token[0]"
   ]
  },
  {
   "cell_type": "code",
   "execution_count": 13,
   "id": "a5599102-c7a6-4ddf-a3c1-ef64448c1f60",
   "metadata": {},
   "outputs": [
    {
     "data": {
      "text/plain": [
       "'table of contents sma solar technology ag planning guidelines si - homan - pl - en - 53 2table of contents 1information on this document. 4 1. 1 content and structure of this document. 4 1. 2 symbols in the document 4 1. 3 designations in the document. 5 2pv energy for internal power supply and self - consumption 6 2. 1 why are self - consumption and internal power supply interesting? 6 2. 2 what are the effects of internal power supply and self - consumption? 6 2. 3 what are the requirements for high energy self - sufficiency and self - consumption quotas?. 6 2. 4 increased self - consumption through intelligent energy management. 7 3internal power supply and self - consumption with sma smart home 9 3. 1 basic solution for intelligent energy management. 9 3. 2 storage solutions for new and existing pv systems. 10 4functions for energy management systems. 17 4. 1 load control 17 4. 1. 1 energy monitoring - measuring and understanding energy flows. 17'"
      ]
     },
     "execution_count": 13,
     "metadata": {},
     "output_type": "execute_result"
    }
   ],
   "source": [
    "split_txt_by_token[1]"
   ]
  },
  {
   "cell_type": "markdown",
   "id": "a64a8267-ab8f-4b88-8e0f-002bca198bf2",
   "metadata": {},
   "source": [
    "***\n",
    "## Sentence Transformer \n",
    "- <a href=\"https://arxiv.org/pdf/1908.10084.pdf\">paper</a>\n",
    "- state-of-the-art sentence, text and image embeddings, can compute sentence / text embeddings for more than 100 languages\n",
    "- is based on BERT transformer architecture\n",
    "- embeds each token individually, pools output of each token embedding to produce a single dense vector per sentence\\chunk\n",
    "- embeddings can then be compared e.g. with cosine-similarity to find sentences with a similar meaning\n",
    "- useful for semantic textual similar, semantic search, or paraphrase mining"
   ]
  },
  {
   "cell_type": "code",
   "execution_count": 14,
   "id": "0940f231-052b-4fbe-8b34-4617fff20d4e",
   "metadata": {},
   "outputs": [],
   "source": [
    "import chromadb\n",
    "from chromadb.utils.embedding_functions import SentenceTransformerEmbeddingFunction"
   ]
  },
  {
   "cell_type": "code",
   "execution_count": 15,
   "id": "a312b124-f1fa-4ba0-8207-c968d939c3bf",
   "metadata": {},
   "outputs": [
    {
     "data": {
      "text/plain": [
       "384"
      ]
     },
     "execution_count": 15,
     "metadata": {},
     "output_type": "execute_result"
    }
   ],
   "source": [
    "embedding_fun = SentenceTransformerEmbeddingFunction(model_name = 'all-MiniLM-L6-v2')\n",
    "\n",
    "embedded_chunk = embedding_fun([split_txt_by_token[0]])\n",
    "len(embedded_chunk[0])"
   ]
  },
  {
   "cell_type": "code",
   "execution_count": 16,
   "id": "78e7c098-267a-492f-b0a0-89ca48cea077",
   "metadata": {},
   "outputs": [
    {
     "data": {
      "text/plain": [
       "[-0.008290236815810204,\n",
       " 0.04230229929089546,\n",
       " 0.03675457835197449,\n",
       " -0.04941593483090401,\n",
       " 0.06758478283882141,\n",
       " 0.03065255470573902,\n",
       " -0.013549256138503551,\n",
       " 0.009989805519580841,\n",
       " -0.12992864847183228,\n",
       " 0.027583245187997818,\n",
       " 0.02715235762298107,\n",
       " 0.009702799841761589,\n",
       " 0.0440477691590786,\n",
       " -0.05999058485031128,\n",
       " 0.09309713542461395]"
      ]
     },
     "execution_count": 16,
     "metadata": {},
     "output_type": "execute_result"
    }
   ],
   "source": [
    "embedded_chunk[0][:15]"
   ]
  },
  {
   "cell_type": "code",
   "execution_count": 17,
   "id": "8b364d34-170b-490f-96bf-2899abbd3fda",
   "metadata": {},
   "outputs": [
    {
     "data": {
      "text/plain": [
       "153"
      ]
     },
     "execution_count": 17,
     "metadata": {},
     "output_type": "execute_result"
    }
   ],
   "source": [
    "# add docs to Chroma\n",
    "chroma_client = chromadb.Client()\n",
    "chroma_collection = chroma_client.create_collection(\n",
    "    \"sma_smart_home\", \n",
    "    embedding_function=embedding_fun\n",
    ")\n",
    "\n",
    "indices = [str(i) for i, _ in enumerate(split_txt_by_token)]\n",
    "\n",
    "chroma_collection.add(ids=indices, documents=split_txt_by_token)\n",
    "chroma_collection.count()"
   ]
  },
  {
   "cell_type": "code",
   "execution_count": 18,
   "id": "a676c0a7-5947-4e49-a8a5-cbbb77929e8d",
   "metadata": {},
   "outputs": [
    {
     "name": "stdout",
     "output_type": "stream",
     "text": [
      "• a desk lamp with an energy requirement of e. g.\n",
      "20 wh can only consume a very small portion of\n",
      "the pv energy. • toasters and kettles are only\n",
      "switched on when they are required. toast and hot\n",
      "water are required promptly. • an electric cooker\n",
      "is switched on when the user wishes to cook. the\n",
      "food is to be prepared promptly and not simply\n",
      "whenever sufficient pv energy is available for\n",
      "operation of the electric cooker. 5. 2 sma ev\n",
      "charger in the energy management system the ev\n",
      "charger is an ac charging station that is\n",
      "designed for unidirectional charging of a\n",
      "vehicle. the sma ev charger along with the sunny\n",
      "home manager 2. 0 makes an intelligent charging\n",
      "station for the sma energy system home. if the ev\n",
      "charger is operated without the sunny home\n",
      "manager 2. 0, the modes for intelligent charging\n",
      "are not available.\n",
      "\n",
      "\n",
      "6 kwp = total po wer −1 kwline conductor neutr al\n",
      "conductor figure 19 : the sma ev charger uses the\n",
      "single - phase pv generation for faster charging\n",
      "of the electric vehicle ( boost function ).\n",
      "\n",
      "\n",
      "sma energy system home with hybrid inverter for\n",
      "high - voltage batteries sma energy system home\n",
      "sunny tripower smart energy sunny tripower smart\n",
      "energy with sunny home manager pv inverter [UNK]\n",
      "[UNK] sunny home manager - [UNK] sma energy meter\n",
      "[UNK] - sma radio - controlled sockets - •\n",
      "compatible intelligent loads ( e. g. ev charger )\n",
      "- • sunny tripower 5. 0 / 6. 0 / 8. 0 / 10. 0\n",
      "smart [UNK] [UNK] approved high - voltage battery\n",
      "[UNK] [UNK]\n",
      "\n",
      "\n",
      "available to achieve the charging goal, the\n",
      "optionally available home storage is first\n",
      "discharged for charging the electric vehicle\n",
      "before the grid - supplied power finally ensures\n",
      "the readiness for de - parture. after sufficient\n",
      "charging for the target range, the ev charger\n",
      "automatically switches to charging with pv\n",
      "surplus. multi - evc operation mode multi - evc\n",
      "operation is supported from firmware version 1.\n",
      "02. # #. r and allows the connection of a maximum\n",
      "of 3 sma ev chargers. mixed systems with single -\n",
      "phase charging stations ( evc7. 4 - 1ac - 10 )\n",
      "and three - phase charging stations ( evc22 - 3ac\n",
      "- 10 ) are possible. in multi - evc operation\n",
      "mode, all charging stations must be connected to\n",
      "the utility grid on a rolling basis. the sunny\n",
      "home manager provides the charging stations with\n",
      "information on the number of active charging\n",
      "stations every minute. in multi - evc operation\n",
      "mode, if multiple charging stations are charging\n",
      "a vehicle and there is a two - phase charging\n",
      "\n",
      "\n",
      "5 loads in energy management systems sma solar\n",
      "technology ag planning guidelines 39 si - homan -\n",
      "pl - en - 53three - phase system with up to 3 sma\n",
      "ev chargers sunny bo y storage sunny home mana\n",
      "ger 2. 0sunny bo y max. 32 amax. 32 amax. 32 a\n",
      "sma ev c hargerl1 l2 l3 n pepv modules battery\n",
      "grounding conductorline conductor neutr al\n",
      "conductordc + cable dc – cable load distribution\n",
      "bo ardgrid - c onnection point with ener gy meter\n",
      "of the grid oper ator utilit y gridprotective\n",
      "devices with r cd and lss vehicle figure 24 :\n",
      "circuitry overview ( example with 3 evc22 - 3ac -\n",
      "10 ) 5. 3 options for load control the sunny home\n",
      "manager is offered by many manufacturers of\n",
      "heating systems, charging stations for electric\n",
      "cars and household appliances as an energy\n",
      "manager for use with pv systems. a prerequisite\n",
      "is that there is a compatible controlling\n",
      "interface between the devices and systems in the\n",
      "household via which the sunny home manager can\n",
      "send its control commands.\n",
      "\n",
      "\n"
     ]
    }
   ],
   "source": [
    "query = \"What kind of EV chargers does the system support from SMA?\" # evc7, evc22\n",
    "# query = \"Is it possible to connect a hybrid inverter and an EV charger to the Home Manager?\"\n",
    "# query = \"What are the supported batteries by the SMA HOME?\"\n",
    "# query = \"Does the system support connecting heat pumps?\"\n",
    "\n",
    "results = chroma_collection.query(query_texts=[query], n_results=5)\n",
    "resulting_docs = results['documents'][0]\n",
    "\n",
    "for doc in resulting_docs:\n",
    "    print(nlp_helper.wrap_text(doc))\n",
    "    print('\\n')"
   ]
  },
  {
   "cell_type": "code",
   "execution_count": 20,
   "id": "1d5e9fce-bf42-4897-8f27-d4741d2d3eb2",
   "metadata": {},
   "outputs": [],
   "source": [
    "import openai\n",
    "from openai import OpenAI\n",
    "\n",
    "openai_client = OpenAI(api_key=key1)"
   ]
  },
  {
   "cell_type": "code",
   "execution_count": 22,
   "id": "7810f836-8140-4fa9-8281-a3fe8dc6556e",
   "metadata": {},
   "outputs": [],
   "source": [
    "def run_rag(query, resulting_documents, model = \"gpt-3.5-turbo\"):\n",
    "    info = \"\\n\".join(resulting_documents)\n",
    "    msg = [\n",
    "        {\"role\": \"system\",\n",
    "         \"content\":\"You are a helpful solar systems engineer. Your client asks you questions about a certain product from a catalogue. \"\n",
    "         \"You will be shown client's question, and the relevant info. Answer using only the relevant info that is given to you.\"\n",
    "        },\n",
    "        {\"role\": \"user\", \n",
    "         \"content\": f\"Question: {query}, \\n  Relevant info: {info}\"\n",
    "        }\n",
    "    ]\n",
    "    \n",
    "    response = openai_client.chat.completions.create(messages=msg, model=model)\n",
    "    return response.choices[0].message.content\n",
    "\n",
    "res = run_rag(query, resulting_docs)"
   ]
  },
  {
   "cell_type": "code",
   "execution_count": 23,
   "id": "509b61f7-263a-4d5e-aeae-838815265f67",
   "metadata": {},
   "outputs": [
    {
     "name": "stdout",
     "output_type": "stream",
     "text": [
      "The system supports EV chargers from SMA.\n",
      "Specifically, it mentions the SMA EV charger,\n",
      "which is an AC charging station designed for\n",
      "unidirectional charging of a vehicle. It can be\n",
      "used with the Sunny Home Manager 2.0 to make an\n",
      "intelligent charging station for the SMA energy\n",
      "system home. The modes for intelligent charging\n",
      "are only available when the EV charger is\n",
      "operated with the Sunny Home Manager 2.0. In\n",
      "multi-EVC operation mode, the system supports the\n",
      "connection of a maximum of 3 SMA EV chargers.\n"
     ]
    }
   ],
   "source": [
    "print(nlp_helper.wrap_text(res))"
   ]
  },
  {
   "cell_type": "markdown",
   "id": "ac20d80d-cd11-45f4-bc8a-532a2cd328a1",
   "metadata": {},
   "source": [
    "*** \n",
    "## Dim. Reduction + Visu of Embeddings\n",
    "- project high dim data to 2D to visualize\n",
    "- Uniform Manifold Approximation\n",
    "- similar to TSNe, PCA"
   ]
  },
  {
   "cell_type": "code",
   "execution_count": 21,
   "id": "8e9cdebc-90fd-49ae-924f-746864635d73",
   "metadata": {},
   "outputs": [],
   "source": [
    "import umap\n",
    "import numpy as np\n",
    "import matplotlib.pyplot as plt"
   ]
  },
  {
   "cell_type": "code",
   "execution_count": 22,
   "id": "10405d81-d677-4079-ba61-bf4982a64c39",
   "metadata": {},
   "outputs": [],
   "source": [
    "embeddings = chroma_collection.get(include=['embeddings'])['embeddings']\n",
    "# umap.UMAP\n",
    "umap_transformer = umap.UMAP(n_components=2,\n",
    "                             random_state=42,\n",
    "                             transform_seed=42,\n",
    "                             n_jobs=1).fit(embeddings)"
   ]
  },
  {
   "cell_type": "code",
   "execution_count": 23,
   "id": "0522de79-2b94-4764-83c4-7a7225461d34",
   "metadata": {},
   "outputs": [],
   "source": [
    "def get_2d_projections(emb, umap_transform):\n",
    "    umap_embeddings = np.empty((len(emb),2))\n",
    "    print(umap_embeddings.shape)\n",
    "    for i, embdi in enumerate(tqdm(emb)):\n",
    "        umap_embeddings[i] = umap_transform.transform([embdi])\n",
    "    return umap_embeddings"
   ]
  },
  {
   "cell_type": "code",
   "execution_count": null,
   "id": "d3363456-4ace-490d-bb67-fade18a631cb",
   "metadata": {},
   "outputs": [],
   "source": [
    "projected_embeddings = get_2d_projections(embeddings, umap_transformer)"
   ]
  },
  {
   "cell_type": "code",
   "execution_count": 25,
   "id": "c488fa11-594e-497c-9175-7dbf5d91b40d",
   "metadata": {},
   "outputs": [
    {
     "data": {
      "image/png": "[encoded data removed]",
      "text/plain": [
       "<Figure size 640x480 with 1 Axes>"
      ]
     },
     "metadata": {},
     "output_type": "display_data"
    }
   ],
   "source": [
    "plt.figure()\n",
    "plt.scatter(projected_embeddings[:, 0], projected_embeddings[:, 1], s=10)\n",
    "plt.gca().set_aspect('equal', 'datalim')\n",
    "plt.title('Projected Embeddings to 2D')\n",
    "plt.axis('off');"
   ]
  },
  {
   "cell_type": "code",
   "execution_count": 26,
   "id": "2d10c8eb-a63c-4c19-95d8-99b532689321",
   "metadata": {},
   "outputs": [],
   "source": [
    "from typing import List, Union\n",
    "\n",
    "def query_chroma_collection(query: str, chroma_col: chromadb.api.Collection, n: int = 5)-> dict:\n",
    "    \"\"\"\n",
    "    Query the ChromaDB, a helper function.\n",
    "    Parameters:\n",
    "    - query (str): The input text to query the DB.\n",
    "    - chroma_col (chromadb.api.Collection): The ChromaDB collection.\n",
    "    - n (int): number of results to generate (default = 5)\n",
    "\n",
    "    Returns:\n",
    "    - dict: A dictionary with the results (documents and embeddings).\n",
    "    \"\"\"\n",
    "    res = chroma_col.query(query_texts=query, \n",
    "                           n_results=n,\n",
    "                           include=['documents', 'embeddings'])\n",
    "    return res\n",
    "\n",
    "\n",
    "def wrap_results(doc: Union[List [str], str]) -> str:\n",
    "    \"\"\"\n",
    "    Wrap results of a ChromaDB colection query.\n",
    "    Parameters:\n",
    "    - doc (Union[List [str], str]): The input can be list of string or a string.\n",
    "\n",
    "    Returns:\n",
    "    - str: A wrapped result of the query\n",
    "    \"\"\"\n",
    "    if isinstance(doc, list):\n",
    "        res = ''\n",
    "        for d in doc:\n",
    "            res += nlp_helper.wrap_text(d) + '\\n\\n'\n",
    "        return res            \n",
    "    else:\n",
    "        return nlp_helper.wrap_text(doc)"
   ]
  },
  {
   "cell_type": "code",
   "execution_count": 41,
   "id": "2af5f481-7bc6-4e72-8370-dd0057aa69c6",
   "metadata": {},
   "outputs": [],
   "source": [
    "query1 = \"Is it possible to connect heat pumps to the system?\"\n",
    "\n",
    "results = query_chroma_collection(query1, chroma_collection, 7)"
   ]
  },
  {
   "cell_type": "code",
   "execution_count": 28,
   "id": "add219f7-6b3e-48a9-865c-a85a7f005a64",
   "metadata": {
    "collapsed": true,
    "jupyter": {
     "outputs_hidden": true
    },
    "tags": []
   },
   "outputs": [
    {
     "name": "stdout",
     "output_type": "stream",
     "text": [
      "in principle there are two types of control\n",
      "interfaces for this : • sma radio - controlled\n",
      "sockets • direct data connection • moxa for sg -\n",
      "ready heat pumps and power control functionality\n",
      "\n",
      "( terminal 9 and 10 ). these switching contacts\n",
      "then start the heat pump in a special operating\n",
      "mode in which surplus pv energy can be used to\n",
      "operate the heat pump. direct data connection\n",
      "some modern home appliances ( see technical\n",
      "information \" sma smart home - compatibility list\n",
      "for loads \" at www. sma - solar. com ) have an\n",
      "ethernet connection with which the data of the\n",
      "device can be called up via the local network. if\n",
      "there is an internet connection via the network\n",
      "router, the manufacturers of household devices\n",
      "can use this data for maintenance purposes, for\n",
      "example. visualization and control of the\n",
      "household devices via mobile devices ( e. g. via\n",
      "app in the smartphone ) is also possible with\n",
      "this. a further application of this direct data\n",
      "connection is the control of the device via the\n",
      "sunny home manager in the energy management\n",
      "system. for this, a compatible data protocol must\n",
      "be implemented in the respective device via\n",
      "\n",
      "5 loads in energy management systems sma solar\n",
      "technology ag planning guidelines si - homan - pl\n",
      "- en - 53 40sma radio - controlled sockets\n",
      "switching three - phase loads using only one\n",
      "common actuator three - phase loads that are\n",
      "dependent on the simultaneous availability of all\n",
      "phases ( e. g. three - phase motors ), must not\n",
      "be controlled via three separate actuators ( e.\n",
      "g. three radio - controlled sockets ). in this\n",
      "case, you must use a single actuator with control\n",
      "of a three - phase contactor. with this type of\n",
      "control, the devices can be started or stopped\n",
      "directly via connecting or interrupting the main\n",
      "power supply ( e. g. a pond pump ).\n",
      "alternatively, a relay or a three - phase\n",
      "contactor, which in turn can start a load, can\n",
      "also be controlled via the radio - controlled\n",
      "socket. this method can be used to switch on\n",
      "large loads ( e. g. a large pump or a heater with\n",
      "three - phase power connection ). for example,\n",
      "the modbus device moxa e1214 offers the\n",
      "possibility to control a heat pump via the relay\n",
      "output r0\n",
      "\n",
      "switches the device. even if the limit of a\n",
      "maximum of 12 devices is reached, further devices\n",
      "can be monitored via radio - controlled sockets\n",
      "and visualized, so long as the maximum number of\n",
      "devices of 24 is not exceeded. fully equipped\n",
      "energy management system a fully equipped energy\n",
      "management system ( with a maximum of 24 devices\n",
      ") can consist of the following compo - nents : •\n",
      "3 x sma inverters • 1 x heat pump that is\n",
      "controlled by the sunny home manager via a direct\n",
      "data connection. • 20 x radio - controlled\n",
      "sockets due to the actively controlled heat pump,\n",
      "only eleven radio - controlled sockets can be\n",
      "actively controlled by the sunny home manager.\n",
      "\n",
      "by using the sunny home manager, the integration\n",
      "of ev chargers ( with forecast - based charging\n",
      "), heat pumps and other controllable loads\n",
      "becomes possible. the sunny tripower smart energy\n",
      "has an integrated battery - backup function to\n",
      "which selected single - and three - phase loads\n",
      "can be connected. in the event of a grid failure,\n",
      "the integrated contactor automatically\n",
      "disconnects these at all poles from the utility\n",
      "grid and supplies them with electric current (\n",
      "see \" sma energy system home with battery -\n",
      "backup function \" at www. sma - solar. com ).\n",
      "functions sunny tripower smart energy with sma\n",
      "energy meteradvanced system with sunny home\n",
      "manager visualization of pv system data in sunny\n",
      "por - tal ( see section 4. 1. 2, page 17 ) [UNK]\n",
      "[UNK] intelligent load control ( see section 4.\n",
      "1, page 17 ) - [UNK] dynamic active power\n",
      "limitation ( see section 4. 2. 1, page 21 ) [UNK]\n",
      ") [UNK] forecast - based charging ( see section\n",
      "4. 2. 2, page 21 ) - [UNK] zero export ( see\n",
      "section 4. 3. 2, page 27 ) [UNK] [UNK] access to\n",
      "grid management services via\n",
      "\n",
      "in a sunny island storage system, the sma energy\n",
      "meter must be connected directly to the sunny\n",
      "island via a network cable. the sunny island\n",
      "receives no data regarding pv generation. this\n",
      "means that the sunny island cannot display some\n",
      "of its parameters, e. g. the increased self -\n",
      "consumption values. for a purely sunny boy\n",
      "storage system, the following sma products are\n",
      "required : • sunny boy storage • sma energy meter\n",
      "can the sunny boy storage be operated with three\n",
      "phases? no : the sunny boy storage can only be\n",
      "operated with one phase. can the sunny island or\n",
      "the sunny boy storage without a sunny home\n",
      "manager limit active power feed - in of a pv\n",
      "system? yes : the sunny island or the sunny boy\n",
      "storage without a sunny home manager is able to\n",
      "limit active power feed - in of a pv system under\n",
      "the following conditions : • only the following\n",
      "device types may be used with the sunny island\n",
      "for the active power limitation : si4. 4m - 13 /\n",
      "si6. 0h - 13 / si8. 0h - 13.\n",
      "\n",
      "yes : the sunny boy storage is equipped with a\n",
      "webconnect function as standard. the webconnect\n",
      "function enables direct data transmission between\n",
      "the inverters of a small - scale system and the\n",
      "internet portal sunny portal without any\n",
      "additional communication device and for a maximum\n",
      "of four inverters per sunny portal system. it is\n",
      "also possible to integrate the sunny boy storage\n",
      "into sunny portal via sunny home manager. what\n",
      "rated power does the sunny island have? for\n",
      "intermediate storage of pv energy in germany, the\n",
      "output power of the sunny island inverter is\n",
      "limited to 4. 6 kw per line conductor due to the\n",
      "standard requirements. product sunny island rated\n",
      "output power sunny island 4. 4m 3300 w sunny\n",
      "island 6. 0h 4600 w sunny island 8. 0h 6000 w\n",
      "what rated power does the sunny boy storage have?\n",
      "for intermediate storage of pv energy in germany,\n",
      "the output power of the sunny island inverter is\n",
      "limited to 4. 6 kw per line conductor due to the\n",
      "standard requirements.\n",
      "\n",
      "\n"
     ]
    }
   ],
   "source": [
    "print(wrap_results(results['documents'][0]))"
   ]
  },
  {
   "cell_type": "code",
   "execution_count": null,
   "id": "0051f69c-6eb5-4931-a6e8-f79ee2d9b67d",
   "metadata": {},
   "outputs": [],
   "source": [
    "query_embedding = embedding_fun([query1])[0]\n",
    "resulting_embeddings = results['embeddings'][0]\n",
    "\n",
    "projected_q_emb = get_2d_projections([query_embedding], umap_transformer)\n",
    "projected_resulting_emb = get_2d_projections(resulting_embeddings, umap_transformer)"
   ]
  },
  {
   "cell_type": "code",
   "execution_count": 43,
   "id": "a692ad5b-b84c-46f5-b636-7285339eeaea",
   "metadata": {},
   "outputs": [
    {
     "data": {
      "image/png": "[encoded data removed]",
      "text/plain": [
       "<Figure size 640x480 with 1 Axes>"
      ]
     },
     "metadata": {},
     "output_type": "display_data"
    }
   ],
   "source": [
    "# Plot query and retrieved documents\n",
    "\n",
    "plt.figure()\n",
    "plt.scatter(projected_embeddings[:, 0], projected_embeddings[:, 1], s=10, color='gray')\n",
    "plt.scatter(projected_q_emb[:, 0], projected_q_emb[:, 1], s=150, marker='X', color='r')\n",
    "plt.scatter(projected_resulting_emb[:, 0], projected_resulting_emb[:, 1], s=100, facecolors='none', edgecolors='g')\n",
    "\n",
    "plt.gca().set_aspect('equal', 'datalim')\n",
    "plt.title(f'{query1}')\n",
    "plt.axis('off');"
   ]
  },
  {
   "cell_type": "code",
   "execution_count": 36,
   "id": "0fa99327-9b24-4cf3-a38d-7eccdf8c1cc6",
   "metadata": {},
   "outputs": [],
   "source": [
    "query2 = \"Is it possible to connect a hybrid inverter and an EV charger to the Home Manager?\"\n",
    "\n",
    "results = query_chroma_collection(query2, chroma_collection, 7)"
   ]
  },
  {
   "cell_type": "code",
   "execution_count": 32,
   "id": "3fbb0dfa-c53c-4329-8e49-3129f6e68a7c",
   "metadata": {
    "collapsed": true,
    "jupyter": {
     "outputs_hidden": true
    },
    "tags": []
   },
   "outputs": [
    {
     "name": "stdout",
     "output_type": "stream",
     "text": [
      "sma energy system home with hybrid inverter for\n",
      "high - voltage batteries sma energy system home\n",
      "sunny tripower smart energy sunny tripower smart\n",
      "energy with sunny home manager pv inverter [UNK]\n",
      "[UNK] sunny home manager - [UNK] sma energy meter\n",
      "[UNK] - sma radio - controlled sockets - •\n",
      "compatible intelligent loads ( e. g. ev charger )\n",
      "- • sunny tripower 5. 0 / 6. 0 / 8. 0 / 10. 0\n",
      "smart [UNK] [UNK] approved high - voltage battery\n",
      "[UNK] [UNK]\n",
      "\n",
      "available to achieve the charging goal, the\n",
      "optionally available home storage is first\n",
      "discharged for charging the electric vehicle\n",
      "before the grid - supplied power finally ensures\n",
      "the readiness for de - parture. after sufficient\n",
      "charging for the target range, the ev charger\n",
      "automatically switches to charging with pv\n",
      "surplus. multi - evc operation mode multi - evc\n",
      "operation is supported from firmware version 1.\n",
      "02. # #. r and allows the connection of a maximum\n",
      "of 3 sma ev chargers. mixed systems with single -\n",
      "phase charging stations ( evc7. 4 - 1ac - 10 )\n",
      "and three - phase charging stations ( evc22 - 3ac\n",
      "- 10 ) are possible. in multi - evc operation\n",
      "mode, all charging stations must be connected to\n",
      "the utility grid on a rolling basis. the sunny\n",
      "home manager provides the charging stations with\n",
      "information on the number of active charging\n",
      "stations every minute. in multi - evc operation\n",
      "mode, if multiple charging stations are charging\n",
      "a vehicle and there is a two - phase charging\n",
      "\n",
      "ration of the priority of the optional\n",
      "appliances, the ev charger is taken into account\n",
      "by sunny home manager before or after other\n",
      "appliances when scheduling. in this charging\n",
      "mode, it is not possible to ensure that the\n",
      "vehicle is charged in all cases. if the surplus\n",
      "pv energy is not suffi - cient for charging, no\n",
      "charging takes place. in this case, the\n",
      "optionally available home storage is not\n",
      "discharged for charging the electric vehicle.\n",
      "intelligent charging - charging with specified\n",
      "target the ev charger is operated as a necessary\n",
      "appliance with as much surplus pv energy as\n",
      "possible. by entering a departure time and an\n",
      "amount of energy to be charged in the sma energy\n",
      "app, the sunny home manager intelligently plans\n",
      "the charging process. the sunny home manager en -\n",
      "ables charging at minimum cost and with maximum\n",
      "utilization of pv power with sufficient charging\n",
      "to reach the destination at the entered departure\n",
      "time. if there is no sufficiently excess pv\n",
      "energy\n",
      "\n",
      "• a desk lamp with an energy requirement of e. g.\n",
      "20 wh can only consume a very small portion of\n",
      "the pv energy. • toasters and kettles are only\n",
      "switched on when they are required. toast and hot\n",
      "water are required promptly. • an electric cooker\n",
      "is switched on when the user wishes to cook. the\n",
      "food is to be prepared promptly and not simply\n",
      "whenever sufficient pv energy is available for\n",
      "operation of the electric cooker. 5. 2 sma ev\n",
      "charger in the energy management system the ev\n",
      "charger is an ac charging station that is\n",
      "designed for unidirectional charging of a\n",
      "vehicle. the sma ev charger along with the sunny\n",
      "home manager 2. 0 makes an intelligent charging\n",
      "station for the sma energy system home. if the ev\n",
      "charger is operated without the sunny home\n",
      "manager 2. 0, the modes for intelligent charging\n",
      "are not available.\n",
      "\n",
      "5 loads in energy management systems sma solar\n",
      "technology ag planning guidelines 39 si - homan -\n",
      "pl - en - 53three - phase system with up to 3 sma\n",
      "ev chargers sunny bo y storage sunny home mana\n",
      "ger 2. 0sunny bo y max. 32 amax. 32 amax. 32 a\n",
      "sma ev c hargerl1 l2 l3 n pepv modules battery\n",
      "grounding conductorline conductor neutr al\n",
      "conductordc + cable dc – cable load distribution\n",
      "bo ardgrid - c onnection point with ener gy meter\n",
      "of the grid oper ator utilit y gridprotective\n",
      "devices with r cd and lss vehicle figure 24 :\n",
      "circuitry overview ( example with 3 evc22 - 3ac -\n",
      "10 ) 5. 3 options for load control the sunny home\n",
      "manager is offered by many manufacturers of\n",
      "heating systems, charging stations for electric\n",
      "cars and household appliances as an energy\n",
      "manager for use with pv systems. a prerequisite\n",
      "is that there is a compatible controlling\n",
      "interface between the devices and systems in the\n",
      "household via which the sunny home manager can\n",
      "send its control commands.\n",
      "\n",
      "by using the sunny home manager, the integration\n",
      "of ev chargers ( with forecast - based charging\n",
      "), heat pumps and other controllable loads\n",
      "becomes possible. the sunny tripower smart energy\n",
      "has an integrated battery - backup function to\n",
      "which selected single - and three - phase loads\n",
      "can be connected. in the event of a grid failure,\n",
      "the integrated contactor automatically\n",
      "disconnects these at all poles from the utility\n",
      "grid and supplies them with electric current (\n",
      "see \" sma energy system home with battery -\n",
      "backup function \" at www. sma - solar. com ).\n",
      "functions sunny tripower smart energy with sma\n",
      "energy meteradvanced system with sunny home\n",
      "manager visualization of pv system data in sunny\n",
      "por - tal ( see section 4. 1. 2, page 17 ) [UNK]\n",
      "[UNK] intelligent load control ( see section 4.\n",
      "1, page 17 ) - [UNK] dynamic active power\n",
      "limitation ( see section 4. 2. 1, page 21 ) [UNK]\n",
      ") [UNK] forecast - based charging ( see section\n",
      "4. 2. 2, page 21 ) - [UNK] zero export ( see\n",
      "section 4. 3. 2, page 27 ) [UNK] [UNK] access to\n",
      "grid management services via\n",
      "\n",
      "• the maximum cable routes and radio ranges\n",
      "between the listed sma products and to other\n",
      "devices must be feasible. • the cable cross -\n",
      "sections and conductor materials of the planned\n",
      "cables must meet the requirements of the listed\n",
      "products. • the battery room must meet the\n",
      "requirements of the battery manufacturer. • only\n",
      "when using the sunny island with a lead - acid\n",
      "battery : a battery fuse must be installed\n",
      "between the dc connection of the sunny island and\n",
      "the battery ( for the requirements for the\n",
      "battery fuse see the inverter operating manual ).\n",
      "links to additional information can be found at\n",
      "www. sma - solar. com : title and information\n",
      "content type of information sunny home manager 2.\n",
      "0 operating manual sma energy meter installation\n",
      "manual sma ev charger operating manual sunny\n",
      "island 4. 0m / 6. 0h / 8. 0h operating manual\n",
      "sunny boy storage 2. 5 operating manual sunny boy\n",
      "storage 3. 7 / 5. 0 / 6. 0 operating manual sunny\n",
      "tripower 5. 0 / 6. 0 / 8. 0 / 10. 0 smart energy\n",
      "operating manual\n",
      "\n",
      "\n"
     ]
    }
   ],
   "source": [
    "print(wrap_results(results['documents'][0]))"
   ]
  },
  {
   "cell_type": "code",
   "execution_count": null,
   "id": "ca52d12b-df2c-4e41-973c-fe7d54612150",
   "metadata": {},
   "outputs": [],
   "source": [
    "query_embedding = embedding_fun([query2])[0]\n",
    "resulting_embeddings = results['embeddings'][0]\n",
    "\n",
    "projected_q_emb = get_2d_projections([query_embedding], umap_transformer)\n",
    "projected_resulting_emb = get_2d_projections(resulting_embeddings, umap_transformer)"
   ]
  },
  {
   "cell_type": "code",
   "execution_count": 38,
   "id": "2edfbd05-58e1-4bc8-b5f4-a89fcf7c2a8a",
   "metadata": {},
   "outputs": [
    {
     "data": {
      "image/png": "[encoded data removed]",
      "text/plain": [
       "<Figure size 640x480 with 1 Axes>"
      ]
     },
     "metadata": {},
     "output_type": "display_data"
    }
   ],
   "source": [
    "# Plot query and retrieved documents\n",
    "\n",
    "plt.figure()\n",
    "plt.scatter(projected_embeddings[:, 0], projected_embeddings[:, 1], s=10, color='gray')\n",
    "plt.scatter(projected_q_emb[:, 0], projected_q_emb[:, 1], s=150, marker='X', color='r')\n",
    "plt.scatter(projected_resulting_emb[:, 0], projected_resulting_emb[:, 1], s=100, facecolors='none', edgecolors='b')\n",
    "\n",
    "plt.gca().set_aspect('equal', 'datalim')\n",
    "plt.title(f'{query2}')\n",
    "plt.axis('off');"
   ]
  },
  {
   "cell_type": "code",
   "execution_count": 48,
   "id": "ac97219e-93d4-478a-b602-7c5fc2843b4c",
   "metadata": {},
   "outputs": [
    {
     "name": "stdout",
     "output_type": "stream",
     "text": [
      "(1, 2)\n"
     ]
    },
    {
     "data": {
      "application/vnd.jupyter.widget-view+json": {
       "model_id": "1ea0ad8b7f4f49ddbcfcb6f88bbb780c",
       "version_major": 2,
       "version_minor": 0
      },
      "text/plain": [
       "  0%|          | 0/1 [00:00<?, ?it/s]"
      ]
     },
     "metadata": {},
     "output_type": "display_data"
    },
    {
     "name": "stdout",
     "output_type": "stream",
     "text": [
      "(5, 2)\n"
     ]
    },
    {
     "data": {
      "application/vnd.jupyter.widget-view+json": {
       "model_id": "3a9fb63dfb7f4384b3c5262acee63b6c",
       "version_major": 2,
       "version_minor": 0
      },
      "text/plain": [
       "  0%|          | 0/5 [00:00<?, ?it/s]"
      ]
     },
     "metadata": {},
     "output_type": "display_data"
    },
    {
     "data": {
      "image/png": "[encoded data removed]",
      "text/plain": [
       "<Figure size 640x480 with 1 Axes>"
      ]
     },
     "metadata": {},
     "output_type": "display_data"
    }
   ],
   "source": [
    "query3 = \"What kind of EV chargers can be connected to the system?\" \n",
    "results = query_chroma_collection(query3, chroma_collection, 5)\n",
    "\n",
    "query_embedding = embedding_fun([query3])[0]\n",
    "resulting_embeddings = results['embeddings'][0]\n",
    "\n",
    "projected_q_emb = get_2d_projections([query_embedding], umap_transformer)\n",
    "projected_resulting_emb = get_2d_projections(resulting_embeddings, umap_transformer)\n",
    "\n",
    "# Plot query and retrieved documents\n",
    "plt.figure()\n",
    "plt.scatter(projected_embeddings[:, 0], projected_embeddings[:, 1], s=10, color='gray')\n",
    "plt.scatter(projected_q_emb[:, 0], projected_q_emb[:, 1], s=150, marker='X', color='r')\n",
    "plt.scatter(projected_resulting_emb[:, 0], projected_resulting_emb[:, 1], s=100, facecolors='none', edgecolors='g')\n",
    "\n",
    "plt.gca().set_aspect('equal', 'datalim')\n",
    "plt.title(f'{query3}')\n",
    "plt.axis('off');"
   ]
  }
 ],
 "metadata": {
  "kernelspec": {
   "display_name": "Python 3 (ipykernel)",
   "language": "python",
   "name": "python3"
  },
  "language_info": {
   "codemirror_mode": {
    "name": "ipython",
    "version": 3
   },
   "file_extension": ".py",
   "mimetype": "text/x-python",
   "name": "python",
   "nbconvert_exporter": "python",
   "pygments_lexer": "ipython3",
   "version": "3.9.18"
  }
 },
 "nbformat": 4,
 "nbformat_minor": 5
}
