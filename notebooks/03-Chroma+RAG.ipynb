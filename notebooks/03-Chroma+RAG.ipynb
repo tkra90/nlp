{
 "cells": [
  {
   "cell_type": "markdown",
   "id": "510d589f-3f07-4d8c-8d1d-e44677b8a21c",
   "metadata": {},
   "source": [
    "# Chroma + RAG\n",
    "- Load PDF, Split into chuncks, Embed, then store in a retrieval system (Chroma)\n",
    "- Embed Query\n",
    "- Retrieval system finds most relevant documents (Nearest Neighbour of Query and pdf txt embeddings)\n",
    "- Return Query and relevant results to LLM\n",
    "- LLM synthesizes that data"
   ]
  },
  {
   "cell_type": "markdown",
   "id": "e35f122b-6d3a-4068-ab0d-5fc1a05fe3e9",
   "metadata": {},
   "source": [
    "***\n",
    "## Install packages"
   ]
  },
  {
   "cell_type": "code",
   "execution_count": 2,
   "id": "c581d601-2273-4385-af21-5f6fb44022bf",
   "metadata": {},
   "outputs": [
    {
     "name": "stdout",
     "output_type": "stream",
     "text": [
      "Note: you may need to restart the kernel to use updated packages.\n"
     ]
    }
   ],
   "source": [
    "%pip install -qqq langchain==0.1.0\n",
    "%pip install -qqq sentence-transformers==2.2.2\n",
    "%pip install -qqq openai==1.7.1 umap==0.1.1\n",
    "\n",
    "# to avoid RuntimeError: Your system has an unsupported version of sqlite3. Chroma requires sqlite3 >= 3.35.0., install version 0.3.29\n",
    "%pip install -qqq chromadb==0.3.29 #0.4.22\n",
    "\n",
    "%pip install -qqq pypdf==3.17.4\n",
    "%pip install -qqq git+https://github.com/tkra90/magic.git"
   ]
  },
  {
   "cell_type": "code",
   "execution_count": 1,
   "id": "601ff5db-ea87-4d66-a812-e49c2af9edee",
   "metadata": {},
   "outputs": [],
   "source": [
    "from tinymagic.nlp import helpers as nlp_helper"
   ]
  },
  {
   "cell_type": "code",
   "execution_count": 4,
   "id": "ce0bf938-6638-4b91-a731-017497db0496",
   "metadata": {},
   "outputs": [],
   "source": [
    "from pypdf import PdfReader\n",
    "from langchain.text_splitter import (\n",
    "    RecursiveCharacterTextSplitter, \n",
    "    SentenceTransformersTokenTextSplitter\n",
    ")"
   ]
  },
  {
   "cell_type": "markdown",
   "id": "d50b401e-5fa8-4f1c-8b84-22c638e3d9dd",
   "metadata": {},
   "source": [
    "***\n",
    "## Read pdf document"
   ]
  },
  {
   "cell_type": "code",
   "execution_count": 5,
   "id": "45cb8d81-6db5-4204-bbd6-68ea1a5b9f94",
   "metadata": {},
   "outputs": [
    {
     "data": {
      "text/plain": [
       "(64, 63)"
      ]
     },
     "execution_count": 5,
     "metadata": {},
     "output_type": "execute_result"
    }
   ],
   "source": [
    "pdf_file = './LLMs/SI-HoMan-PL-en-53.pdf'\n",
    "\n",
    "# extract text and strip whitespace, remove ..s\n",
    "pdf_readr = PdfReader(pdf_file)\n",
    "pdfs = [page.extract_text().strip().replace('..','') for page in pdf_readr.pages]\n",
    "\n",
    "# filter empty pages\n",
    "filtered_pdf = [pg for pg in pdfs if pg]\n",
    "\n",
    "len(pdfs), len(filtered_pdf)"
   ]
  },
  {
   "cell_type": "code",
   "execution_count": 6,
   "id": "5324b4af-c4bc-4a1e-ac4a-54e6e4e126bf",
   "metadata": {},
   "outputs": [
    {
     "name": "stdout",
     "output_type": "stream",
     "text": [
      "Planning Guidelines\n",
      "SMA SMART HOME\n",
      "The System Solution for Greater Independence\n",
      "SI-HoMan-PL-en-53 | Version 5.3 ENGLISH\n"
     ]
    }
   ],
   "source": [
    "print(filtered_pdf[0])"
   ]
  },
  {
   "cell_type": "code",
   "execution_count": 8,
   "id": "66224db1-2ec7-4ffa-8395-09be449d15a4",
   "metadata": {},
   "outputs": [
    {
     "name": "stdout",
     "output_type": "stream",
     "text": [
      "Planning Guidelines\n",
      "SMA SMART HOME\n",
      "The System\n",
      "\n",
      "Solution for Greater\n",
      "Independence\n",
      "SI-HoMan-PL-en-53 | Version 5.3\n",
      "ENGLISH\n"
     ]
    }
   ],
   "source": [
    "print(nlp_helper.wrap_text(filtered_pdf[0], 50, '\\n\\n'))"
   ]
  },
  {
   "cell_type": "markdown",
   "id": "0e42e1e0-d730-4a53-a437-a7a3c0de3b72",
   "metadata": {},
   "source": [
    "***\n",
    "## Split text by Characters "
   ]
  },
  {
   "cell_type": "code",
   "execution_count": 9,
   "id": "ed19572a-ce0d-4602-9f44-9270ad7fc6d1",
   "metadata": {},
   "outputs": [
    {
     "name": "stdout",
     "output_type": "stream",
     "text": [
      "Nr. of chunks: 149\n"
     ]
    }
   ],
   "source": [
    "# split by \\\\n, if still >1000, split by \\n etc\n",
    "char_splitter = RecursiveCharacterTextSplitter(\n",
    "    separators=[\"\\n\\n\", \"\\n\", \". \",  \" \", \"\"],\n",
    "    chunk_size=1000,\n",
    "    chunk_overlap=0\n",
    ")\n",
    "\n",
    "merged_pages = '\\n\\n'.join(filtered_pdf)\n",
    "split_text = char_splitter.split_text(merged_pages)\n",
    "\n",
    "print(f'Nr. of chunks: {len(split_text)}')"
   ]
  },
  {
   "cell_type": "code",
   "execution_count": 10,
   "id": "4df335fc-6101-45db-866b-652cb8ffd8d8",
   "metadata": {},
   "outputs": [
    {
     "name": "stdout",
     "output_type": "stream",
     "text": [
      "Planning Guidelines\n",
      "SMA SMART HOME\n",
      "The System\n",
      "Solution for Greater\n",
      "Independence\n",
      "SI-HoMan-PL-en-53 | Version 5.3\n",
      "ENGLISH\n"
     ]
    }
   ],
   "source": [
    "print(nlp_helper.wrap_text(split_text[0])[:250])"
   ]
  },
  {
   "cell_type": "markdown",
   "id": "5c98107c-7808-4426-a6ae-1b4ae155815c",
   "metadata": {},
   "source": [
    "***\n",
    "## Split Tokens\n",
    "- prepare text for the embedding model"
   ]
  },
  {
   "cell_type": "code",
   "execution_count": 11,
   "id": "694c2570-6b64-48ee-afeb-2027b842ae03",
   "metadata": {},
   "outputs": [],
   "source": [
    "token_splitter = SentenceTransformersTokenTextSplitter(\n",
    "    chunk_overlap=0, \n",
    "    tokens_per_chunk=256\n",
    ")\n",
    "# bc embedding model context window  is 256"
   ]
  },
  {
   "cell_type": "code",
   "execution_count": 12,
   "id": "3ea353b4-c57a-45ed-a0ec-4fd6b11966a8",
   "metadata": {},
   "outputs": [
    {
     "data": {
      "text/plain": [
       "153"
      ]
     },
     "execution_count": 12,
     "metadata": {},
     "output_type": "execute_result"
    }
   ],
   "source": [
    "split_txt_by_token = []\n",
    "for text in split_text:\n",
    "    split_txt_by_token += token_splitter.split_text(text)\n",
    "    \n",
    "len(split_txt_by_token)"
   ]
  },
  {
   "cell_type": "code",
   "execution_count": 13,
   "id": "87038034-d067-4d44-b3a4-aa67eb6ab56a",
   "metadata": {},
   "outputs": [
    {
     "name": "stdout",
     "output_type": "stream",
     "text": [
      "planning guidelines sma smart home the system\n",
      "solution for greater independence si - homan - pl\n",
      "- en - 53 | version 5. 3 english\n"
     ]
    }
   ],
   "source": [
    "print(nlp_helper.wrap_text(split_txt_by_token[0]))"
   ]
  },
  {
   "cell_type": "code",
   "execution_count": 14,
   "id": "fae6999c-0ff8-4d0b-b0c4-109f7c82fca5",
   "metadata": {},
   "outputs": [
    {
     "data": {
      "text/plain": [
       "'planning guidelines sma smart home the system solution for greater independence si - homan - pl - en - 53 | version 5. 3 english'"
      ]
     },
     "execution_count": 14,
     "metadata": {},
     "output_type": "execute_result"
    }
   ],
   "source": [
    "split_txt_by_token[0]"
   ]
  },
  {
   "cell_type": "markdown",
   "id": "a64a8267-ab8f-4b88-8e0f-002bca198bf2",
   "metadata": {},
   "source": [
    "***\n",
    "## Sentence Transformer \n",
    "- <a href=\"https://arxiv.org/pdf/1908.10084.pdf\">paper</a>\n",
    "- state-of-the-art sentence, text and image embeddings, can compute sentence / text embeddings for more than 100 languages\n",
    "- is based on BERT transformer architecture\n",
    "- embeds each token individually, pools output of each token embedding to produce a single dense vector per sentence\\chunk\n",
    "- embeddings can then be compared e.g. with cosine-similarity to find sentences with a similar meaning\n",
    "- useful for semantic textual similar, semantic search, or paraphrase mining"
   ]
  },
  {
   "cell_type": "code",
   "execution_count": 16,
   "id": "0940f231-052b-4fbe-8b34-4617fff20d4e",
   "metadata": {},
   "outputs": [],
   "source": [
    "import chromadb\n",
    "from chromadb.utils.embedding_functions import SentenceTransformerEmbeddingFunction"
   ]
  },
  {
   "cell_type": "code",
   "execution_count": 17,
   "id": "a312b124-f1fa-4ba0-8207-c968d939c3bf",
   "metadata": {},
   "outputs": [
    {
     "data": {
      "text/plain": [
       "384"
      ]
     },
     "execution_count": 17,
     "metadata": {},
     "output_type": "execute_result"
    }
   ],
   "source": [
    "embedding_fun = SentenceTransformerEmbeddingFunction(model_name = 'all-MiniLM-L6-v2')\n",
    "\n",
    "embedded_chunk = embedding_fun([split_txt_by_token[0]])\n",
    "len(embedded_chunk[0])"
   ]
  },
  {
   "cell_type": "code",
   "execution_count": 18,
   "id": "78e7c098-267a-492f-b0a0-89ca48cea077",
   "metadata": {},
   "outputs": [
    {
     "data": {
      "text/plain": [
       "[-0.008290236815810204,\n",
       " 0.04230229929089546,\n",
       " 0.03675457835197449,\n",
       " -0.04941593483090401,\n",
       " 0.06758478283882141,\n",
       " 0.03065255470573902,\n",
       " -0.013549256138503551,\n",
       " 0.009989805519580841,\n",
       " -0.12992864847183228,\n",
       " 0.027583245187997818,\n",
       " 0.02715235762298107,\n",
       " 0.009702799841761589,\n",
       " 0.0440477691590786,\n",
       " -0.05999058485031128,\n",
       " 0.09309713542461395]"
      ]
     },
     "execution_count": 18,
     "metadata": {},
     "output_type": "execute_result"
    }
   ],
   "source": [
    "embedded_chunk[0][:15]"
   ]
  },
  {
   "cell_type": "code",
   "execution_count": 19,
   "id": "8b364d34-170b-490f-96bf-2899abbd3fda",
   "metadata": {},
   "outputs": [
    {
     "data": {
      "text/plain": [
       "153"
      ]
     },
     "execution_count": 19,
     "metadata": {},
     "output_type": "execute_result"
    }
   ],
   "source": [
    "# add docs to Chroma\n",
    "chroma_client = chromadb.Client()\n",
    "chroma_collection = chroma_client.create_collection(\n",
    "    \"sma_smart_home\", \n",
    "    embedding_function=embedding_fun\n",
    ")\n",
    "\n",
    "indices = [str(i) for i, _ in enumerate(split_txt_by_token)]\n",
    "\n",
    "chroma_collection.add(ids=indices, documents=split_txt_by_token)\n",
    "chroma_collection.count()"
   ]
  },
  {
   "cell_type": "code",
   "execution_count": 31,
   "id": "a676c0a7-5947-4e49-a8a5-cbbb77929e8d",
   "metadata": {},
   "outputs": [
    {
     "name": "stdout",
     "output_type": "stream",
     "text": [
      "• a desk lamp with an energy requirement of e. g.\n",
      "20 wh can only consume a very small portion of\n",
      "the pv energy. • toasters and kettles are only\n",
      "switched on when they are required. toast and hot\n",
      "water are required promptly. • an electric cooker\n",
      "is switched on when the user wishes to cook. the\n",
      "food is to be prepared promptly and not simply\n",
      "whenever sufficient pv energy is available for\n",
      "operation of the electric cooker. 5. 2 sma ev\n",
      "charger in the energy management system the ev\n",
      "charger is an ac charging station that is\n",
      "designed for unidirectional charging of a\n",
      "vehicle. the sma ev charger along with the sunny\n",
      "home manager 2. 0 makes an intelligent charging\n",
      "station for the sma energy system home. if the ev\n",
      "charger is operated without the sunny home\n",
      "manager 2. 0, the modes for intelligent charging\n",
      "are not available.\n",
      "\n",
      "\n",
      "6 kwp = total po wer −1 kwline conductor neutr al\n",
      "conductor figure 19 : the sma ev charger uses the\n",
      "single - phase pv generation for faster charging\n",
      "of the electric vehicle ( boost function ).\n",
      "\n",
      "\n",
      "sma energy system home with hybrid inverter for\n",
      "high - voltage batteries sma energy system home\n",
      "sunny tripower smart energy sunny tripower smart\n",
      "energy with sunny home manager pv inverter [UNK]\n",
      "[UNK] sunny home manager - [UNK] sma energy meter\n",
      "[UNK] - sma radio - controlled sockets - •\n",
      "compatible intelligent loads ( e. g. ev charger )\n",
      "- • sunny tripower 5. 0 / 6. 0 / 8. 0 / 10. 0\n",
      "smart [UNK] [UNK] approved high - voltage battery\n",
      "[UNK] [UNK]\n",
      "\n",
      "\n",
      "available to achieve the charging goal, the\n",
      "optionally available home storage is first\n",
      "discharged for charging the electric vehicle\n",
      "before the grid - supplied power finally ensures\n",
      "the readiness for de - parture. after sufficient\n",
      "charging for the target range, the ev charger\n",
      "automatically switches to charging with pv\n",
      "surplus. multi - evc operation mode multi - evc\n",
      "operation is supported from firmware version 1.\n",
      "02. # #. r and allows the connection of a maximum\n",
      "of 3 sma ev chargers. mixed systems with single -\n",
      "phase charging stations ( evc7. 4 - 1ac - 10 )\n",
      "and three - phase charging stations ( evc22 - 3ac\n",
      "- 10 ) are possible. in multi - evc operation\n",
      "mode, all charging stations must be connected to\n",
      "the utility grid on a rolling basis. the sunny\n",
      "home manager provides the charging stations with\n",
      "information on the number of active charging\n",
      "stations every minute. in multi - evc operation\n",
      "mode, if multiple charging stations are charging\n",
      "a vehicle and there is a two - phase charging\n",
      "\n",
      "\n",
      "5 loads in energy management systems sma solar\n",
      "technology ag planning guidelines 39 si - homan -\n",
      "pl - en - 53three - phase system with up to 3 sma\n",
      "ev chargers sunny bo y storage sunny home mana\n",
      "ger 2. 0sunny bo y max. 32 amax. 32 amax. 32 a\n",
      "sma ev c hargerl1 l2 l3 n pepv modules battery\n",
      "grounding conductorline conductor neutr al\n",
      "conductordc + cable dc – cable load distribution\n",
      "bo ardgrid - c onnection point with ener gy meter\n",
      "of the grid oper ator utilit y gridprotective\n",
      "devices with r cd and lss vehicle figure 24 :\n",
      "circuitry overview ( example with 3 evc22 - 3ac -\n",
      "10 ) 5. 3 options for load control the sunny home\n",
      "manager is offered by many manufacturers of\n",
      "heating systems, charging stations for electric\n",
      "cars and household appliances as an energy\n",
      "manager for use with pv systems. a prerequisite\n",
      "is that there is a compatible controlling\n",
      "interface between the devices and systems in the\n",
      "household via which the sunny home manager can\n",
      "send its control commands.\n",
      "\n",
      "\n"
     ]
    }
   ],
   "source": [
    "query = \"What kind of EV chargers does the system support from SMA?\" # evc7, evc22\n",
    "# query = \"Is it possible to connect a hybrid inverter and an EV charger to the Home Manager?\"\n",
    "# query = \"What are the supported batteries by the SMA HOME?\"\n",
    "# query = \"Does the system support connecting heat pumps?\"\n",
    "\n",
    "results = chroma_collection.query(query_texts=[query], n_results=5)\n",
    "resulting_docs = results['documents'][0]\n",
    "\n",
    "for doc in resulting_docs:\n",
    "    print(nlp_helper.wrap_text(doc))\n",
    "    print('\\n')"
   ]
  },
  {
   "cell_type": "code",
   "execution_count": 37,
   "id": "1d5e9fce-bf42-4897-8f27-d4741d2d3eb2",
   "metadata": {},
   "outputs": [],
   "source": [
    "import openai\n",
    "from openai import OpenAI\n",
    "\n",
    "openai_client = OpenAI(api_key=key1)"
   ]
  },
  {
   "cell_type": "code",
   "execution_count": 47,
   "id": "7810f836-8140-4fa9-8281-a3fe8dc6556e",
   "metadata": {},
   "outputs": [],
   "source": [
    "def run_rag(query, resulting_documents, model = \"gpt-3.5-turbo\"):\n",
    "    info = \"\\n\".join(resulting_documents)\n",
    "    msg = [\n",
    "        {\"role\": \"system\",\n",
    "         \"content\":\"You are a helpful solar systems engineer. Your client asks you questions about a certain product from a catalogue. \"\n",
    "         \"You will be shown client's question, and the relevant info. Answer using only the relevant info that is given to you.\"\n",
    "        },\n",
    "        {\"role\": \"user\", \n",
    "         \"content\": f\"Question: {query}, \\n  Relevant info: {info}\"\n",
    "        }\n",
    "    ]\n",
    "    \n",
    "    response = openai_client.chat.completions.create(messages=msg, model=model)\n",
    "    return response.choices[0].message.content\n",
    "\n",
    "res = run_rag(query, resulting_docs)"
   ]
  },
  {
   "cell_type": "code",
   "execution_count": 49,
   "id": "509b61f7-263a-4d5e-aeae-838815265f67",
   "metadata": {},
   "outputs": [
    {
     "name": "stdout",
     "output_type": "stream",
     "text": [
      "The system supports EV chargers from SMA.\n",
      "Specifically, it mentions the SMA EV charger,\n",
      "which is an AC charging station designed for\n",
      "unidirectional charging of a vehicle. It can be\n",
      "used with the Sunny Home Manager 2.0 to make an\n",
      "intelligent charging station for the SMA energy\n",
      "system home. The modes for intelligent charging\n",
      "are only available when the EV charger is\n",
      "operated with the Sunny Home Manager 2.0. In\n",
      "multi-EVC operation mode, the system supports the\n",
      "connection of a maximum of 3 SMA EV chargers.\n"
     ]
    }
   ],
   "source": [
    "print(nlp_helper.wrap_text(res))"
   ]
  },
  {
   "cell_type": "code",
   "execution_count": null,
   "id": "5301c45c-42cc-49ce-8b7e-b42db85efbc9",
   "metadata": {},
   "outputs": [],
   "source": []
  }
 ],
 "metadata": {
  "kernelspec": {
   "display_name": "Python 3 (ipykernel)",
   "language": "python",
   "name": "python3"
  },
  "language_info": {
   "codemirror_mode": {
    "name": "ipython",
    "version": 3
   },
   "file_extension": ".py",
   "mimetype": "text/x-python",
   "name": "python",
   "nbconvert_exporter": "python",
   "pygments_lexer": "ipython3",
   "version": "3.9.18"
  }
 },
 "nbformat": 4,
 "nbformat_minor": 5
}
